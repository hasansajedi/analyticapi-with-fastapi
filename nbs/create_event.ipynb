{
 "cells": [
  {
   "cell_type": "code",
   "execution_count": 1,
   "id": "9b9b16b1",
   "metadata": {},
   "outputs": [
    {
     "name": "stdout",
     "output_type": "stream",
     "text": [
      "Requirement already satisfied: requests in /home/hasansajedi/projects/hasan/analytics-api/venv/lib64/python3.13/site-packages (2.32.4)\n",
      "Requirement already satisfied: charset_normalizer<4,>=2 in /home/hasansajedi/projects/hasan/analytics-api/venv/lib64/python3.13/site-packages (from requests) (3.4.2)\n",
      "Requirement already satisfied: idna<4,>=2.5 in /home/hasansajedi/projects/hasan/analytics-api/venv/lib64/python3.13/site-packages (from requests) (3.10)\n",
      "Requirement already satisfied: urllib3<3,>=1.21.1 in /home/hasansajedi/projects/hasan/analytics-api/venv/lib64/python3.13/site-packages (from requests) (2.5.0)\n",
      "Requirement already satisfied: certifi>=2017.4.17 in /home/hasansajedi/projects/hasan/analytics-api/venv/lib64/python3.13/site-packages (from requests) (2025.6.15)\n",
      "Note: you may need to restart the kernel to use updated packages.\n"
     ]
    }
   ],
   "source": [
    "%pip install requests"
   ]
  },
  {
   "cell_type": "code",
   "execution_count": 1,
   "id": "395e8890",
   "metadata": {},
   "outputs": [],
   "source": [
    "import requests"
   ]
  },
  {
   "cell_type": "markdown",
   "id": "d10f2789",
   "metadata": {},
   "source": [
    "# Create an Event"
   ]
  },
  {
   "cell_type": "code",
   "execution_count": 5,
   "id": "31b87c82",
   "metadata": {},
   "outputs": [
    {
     "data": {
      "text/plain": [
       "{'time': '2025-07-07T16:20:31.009924Z',\n",
       " 'description': '4th item',\n",
       " 'page': '/test4',\n",
       " 'id': 4,\n",
       " 'updated_at': '2025-07-07T16:20:31.009933Z'}"
      ]
     },
     "execution_count": 5,
     "metadata": {},
     "output_type": "execute_result"
    }
   ],
   "source": [
    "data = {\n",
    "    \"page\": \"/test4\", \n",
    "    \"description\": \"4th item\"\n",
    "}\n",
    "response = requests.post(\"http://127.0.0.1:8000/api/events/\", json=data)\n",
    "response.status_code\n",
    "response.json()"
   ]
  },
  {
   "cell_type": "markdown",
   "id": "2dfffebf",
   "metadata": {},
   "source": [
    "# Update an Event"
   ]
  },
  {
   "cell_type": "code",
   "execution_count": 3,
   "id": "a847c381",
   "metadata": {},
   "outputs": [
    {
     "data": {
      "text/plain": [
       "{'description': '4th new item',\n",
       " 'updated_at': '2025-07-07T15:18:23.233295Z',\n",
       " 'id': 4,\n",
       " 'page': '/test2',\n",
       " 'created_at': '2025-07-07T15:16:54.685941Z'}"
      ]
     },
     "execution_count": 3,
     "metadata": {},
     "output_type": "execute_result"
    }
   ],
   "source": [
    "response = requests.put(\"http://127.0.0.1:8000/api/events/4/\", json={\"description\": \"4th new item\"})\n",
    "response.status_code\n",
    "response.json()"
   ]
  },
  {
   "cell_type": "markdown",
   "id": "269108fb",
   "metadata": {},
   "source": [
    "# Bulk create"
   ]
  },
  {
   "cell_type": "code",
   "execution_count": 1,
   "id": "ede1c57c",
   "metadata": {},
   "outputs": [],
   "source": [
    "import random\n",
    "import requests\n",
    "pages  = [\"/home\", \"/contact\", \"/pages\", \"/pricing\"]\n",
    "for i in range(10000):\n",
    "    data = {\n",
    "        \"page\": random.choice(pages), \n",
    "        \"description\": \"4th item\"\n",
    "    }\n",
    "    response = requests.post(\"http://127.0.0.1:8000/api/events/\", json=data)\n",
    "    response.status_code\n",
    "    response.json()"
   ]
  },
  {
   "cell_type": "code",
   "execution_count": 1,
   "id": "fa27bbb8",
   "metadata": {},
   "outputs": [
    {
     "name": "stdout",
     "output_type": "stream",
     "text": [
      "Collecting faker\n",
      "  Downloading faker-37.4.0-py3-none-any.whl.metadata (15 kB)\n",
      "Collecting tzdata (from faker)\n",
      "  Using cached tzdata-2025.2-py2.py3-none-any.whl.metadata (1.4 kB)\n",
      "Downloading faker-37.4.0-py3-none-any.whl (1.9 MB)\n",
      "\u001b[2K   \u001b[90m━━━━━━━━━━━━━━━━━━━━━━━━━━━━━━━━━━━━━━━━\u001b[0m \u001b[32m1.9/1.9 MB\u001b[0m \u001b[31m1.8 MB/s\u001b[0m eta \u001b[36m0:00:00\u001b[0ma \u001b[36m0:00:01\u001b[0m\n",
      "\u001b[?25hUsing cached tzdata-2025.2-py2.py3-none-any.whl (347 kB)\n",
      "Installing collected packages: tzdata, faker\n",
      "\u001b[2K   \u001b[90m━━━━━━━━━━━━━━━━━━━━━━━━━━━━━━━━━━━━━━━━\u001b[0m \u001b[32m2/2\u001b[0m [faker]32m1/2\u001b[0m [faker]\n",
      "\u001b[1A\u001b[2KSuccessfully installed faker-37.4.0 tzdata-2025.2\n",
      "Note: you may need to restart the kernel to use updated packages.\n"
     ]
    }
   ],
   "source": [
    "%pip install faker"
   ]
  },
  {
   "cell_type": "code",
   "execution_count": 2,
   "id": "b19c54fc",
   "metadata": {},
   "outputs": [],
   "source": [
    "from faker import Faker\n",
    "import random\n",
    "import requests\n",
    "pages  = [\"/\", \"/about\", \"/blog\", \"/products\", \"/login\", \"/signup\", \"/dashboard\", \"/settings\", \"/contact\", \"/pricing\"]\n",
    "fake = Faker()\n",
    "session_ids = [fake.uuid4() for _ in range(20)]\n",
    "referrers = [\n",
    "    \"https://google.com\", \n",
    "    \"https://facebook.com\",\n",
    "    \"https://twitter.com\",\n",
    "    \"https://linkedin.com\",\n",
    "    \"\",\n",
    "    \"https://github.com\"\n",
    "]\n",
    "for i in range(10000):\n",
    "    page = random.choice(pages)\n",
    "    user_agent = random.choice([fake.chrome,fake.firefox,fake.safari,fake.opera,fake.user_agent])()\n",
    "    payload = {\n",
    "        \"page\": page, \n",
    "        \"user_agent\": user_agent,\n",
    "        \"ip_address\": fake.ipv4(),\n",
    "        \"referrer\": random.choice(referrers),\n",
    "        \"session_id\": random.choice(session_ids),\n",
    "        \"duration\": random.randint(1, 300),\n",
    "    }\n",
    "    response = requests.post(\"http://127.0.0.1:8000/api/events/\", json=payload)\n",
    "    response.status_code\n",
    "    response.json()"
   ]
  }
 ],
 "metadata": {
  "kernelspec": {
   "display_name": "venv",
   "language": "python",
   "name": "python3"
  },
  "language_info": {
   "codemirror_mode": {
    "name": "ipython",
    "version": 3
   },
   "file_extension": ".py",
   "mimetype": "text/x-python",
   "name": "python",
   "nbconvert_exporter": "python",
   "pygments_lexer": "ipython3",
   "version": "3.13.3"
  }
 },
 "nbformat": 4,
 "nbformat_minor": 5
}
